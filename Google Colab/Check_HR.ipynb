{
  "nbformat": 4,
  "nbformat_minor": 0,
  "metadata": {
    "colab": {
      "name": "Check HR",
      "provenance": [],
      "private_outputs": true,
      "collapsed_sections": [],
      "authorship_tag": "ABX9TyOI5WwnX+tixeXiyt4oFmd/",
      "include_colab_link": true
    },
    "kernelspec": {
      "name": "python3",
      "display_name": "Python 3"
    }
  },
  "cells": [
    {
      "cell_type": "markdown",
      "metadata": {
        "id": "view-in-github",
        "colab_type": "text"
      },
      "source": [
        "<a href=\"https://colab.research.google.com/github/EddOliver/ProjectNIX/blob/master/Google%20Colab/Check_HR.ipynb\" target=\"_parent\"><img src=\"https://colab.research.google.com/assets/colab-badge.svg\" alt=\"Open In Colab\"/></a>"
      ]
    },
    {
      "cell_type": "code",
      "metadata": {
        "id": "T8mFthLSJa5L",
        "colab_type": "code",
        "colab": {}
      },
      "source": [
        "from sklearn.metrics import r2_score\n",
        "import numpy as np\n",
        "import matplotlib\n",
        "import matplotlib.pyplot as plt\n",
        "import random\n",
        "\n",
        "matplotlib.rcParams.update({'font.size': 16})\n",
        "\n",
        "def check(hr):\n",
        "  gen = len(hr)\n",
        "  hours=gen/60\n",
        "  lin=[]\n",
        "  square=[]\n",
        "  trip=[]\n",
        "  x = []\n",
        "  a = hr\n",
        "  x1 = np.array([0, hours/2, hours])\n",
        "  y1 = np.array([60,np.amin(a),60])\n",
        "  z1 = np.poly1d(np.polyfit(x1, y1, 2))\n",
        "  x2 = np.array([0, hours])\n",
        "  y2 = np.array([60,np.amin(a)])\n",
        "  z2 = np.poly1d(np.polyfit(x2, y2, 1))\n",
        "  x3 = np.array([0, hours/3,(2*hours)/3, hours])\n",
        "  y3 = np.array([50,np.average(a),np.average(a)-np.std(a),60])\n",
        "  z3 = np.poly1d(np.polyfit(x3, y3, 3))\n",
        "  for ge in range(gen):\n",
        "    a = (ge*hours)/gen\n",
        "    x.append(a)\n",
        "    square.append(z1(a))\n",
        "    lin.append(z2(a))\n",
        "    trip.append(z3(a))\n",
        "\n",
        "  ss = r2_score(hr, square)\n",
        "  sl = r2_score(hr, lin)\n",
        "  st = r2_score(hr, trip)\n",
        "\n",
        "  plt.xlabel('time (h)')\n",
        "  plt.ylabel('Heart Rate')\n",
        "\n",
        "  if(ss>sl and ss>st):\n",
        "    plt.plot(x, square, '.', x, hr, 'x')\n",
        "    plt.xlim(0,hours)\n",
        "    plt.show()\n",
        "    return \"The Hammock\"\n",
        "  elif(sl>ss and sl>st):\n",
        "    plt.plot(x, lin, '.', x, hr, 'x')\n",
        "    plt.xlim(0,hours)\n",
        "    plt.show()\n",
        "    return \"The Downward Slope\"\n",
        "  elif(st>sl and st>ss):\n",
        "    plt.plot(x, trip, '.', x, hr, 'x')\n",
        "    plt.xlim(0,hours)\n",
        "    plt.show()\n",
        "    return \"The Hill\"\n"
      ],
      "execution_count": 0,
      "outputs": []
    },
    {
      "cell_type": "code",
      "metadata": {
        "id": "nkyxE0nQrTC4",
        "colab_type": "code",
        "colab": {}
      },
      "source": [
        "hr = [59,56,57,55,61,57,54,54,53,55,53,57,55,55,53,52,54,51,53,53,51,51,52,53,52,53,54,51,51,52,51,51,53,53,52,60,50,51,51,51,52,50,51,54,53,51,53,52,63,49,53,51,51,51,52,51,52,51,72,53,52,53,57,53,54,55,56,53,55,53,54,55,54,55,50,51,51,53,52,53,52,53,53,53,52,51,53,51,53,51,52,54,55,53,54,55,53,53,51,51,51,53,53,53,52,52,53,57,74,51,53,51,58,53,55,55,53,50,53,53,52,49,57,57,65,60,59,49,55,53,51,50,51,51,57,54,55,54,52,52,53,52,53,49,52,57,49,52,51,47,49,50,51,51,51,67,49,53,53,51,54,51,59,55,59,59,53,48,53,51,51,53,51,47,52,53,53,53,51,50,73,49,51,51,51,53,52,51,52,53,52,52,54,54,53,53,55,53,51,51,53,53,54,53,53,53,52,53,52,72,59,47,51,53,50,49,50,51,51,51,50,51,49,49,50,51,60,47,54,47,49,50,54,45,49,47,52,53,51,51,44,49,46,45,59,55,45,50,64,56,70,49,49,62,50,47,46,49,43,58,45,55,53,48,51,53,77,49,51,49,49,52,53,51,49,50,50,51,51,48,47,48,49,49,49,62,70,50,47,45,46,45,47,50,47,43,46,47,47,51,48,49,49,47,49,49,49,49,48,49,48,49,50,48,49,47,47,49,50,49,48,49,51,53,80,45,47,48,48,51,48,49,49,49,49,49,49,51,49,49,49,50,49,48,53,51,49,49,49,45,49,45,51,48,51,49,46,51,53,57,51,46,55,46,50,43,41,46,44,47,47,49,53,48,51,45,42,49,52,46,49,48,57,53,53,48,54,48,72,53,51,51,51,49,55,54,49,58,53,53,49,47,47,50,48,48,51,48,47,51,51,49,51,51,49,49,57,52,51,46,47,47,50,51,49,52,52,51,51,51,78,53,51,49,49,50,51,50,52,49,51,52,51,51,50,54,51,58,49,53,53,55,51]\n",
        "print(check(hr))"
      ],
      "execution_count": 0,
      "outputs": []
    }
  ]
}